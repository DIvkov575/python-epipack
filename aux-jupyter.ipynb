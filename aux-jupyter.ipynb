{
 "cells": [
  {
   "cell_type": "code",
   "execution_count": null,
   "outputs": [],
   "source": [
    "import pandas as pd\n",
    "import os"
   ],
   "metadata": {
    "collapsed": false,
    "pycharm": {
     "name": "#%%\n"
    }
   }
  },
  {
   "cell_type": "code",
   "execution_count": null,
   "outputs": [],
   "source": [
    "def get_paths(directory=\"Assets\") -> list:\n",
    "    # pulls all file paths from director\n",
    "    # removes spaces from all paths\n",
    "    return os.listdir(directory)"
   ],
   "metadata": {
    "collapsed": false,
    "pycharm": {
     "name": "#%%\n"
    }
   }
  },
  {
   "cell_type": "code",
   "execution_count": null,
   "outputs": [],
   "source": [
    "df1 = pd.DataFrame(\n",
    "    {\n",
    "        \"name\": [\"NA\" for _ in range(len(get_paths()))],\n",
    "        \"path\": get_paths(),\n",
    "        \"bpm\": [\"NA\" for _ in range(len(get_paths()))],\n",
    "        \"scale\": [\"NA\" for _ in range(len(get_paths()))],\n",
    "        \"genre\": [\"NA\" for _ in range(len(get_paths()))],\n",
    "        \"mood\": [\"NA\" for _ in range(len(get_paths()))],\n",
    "        \"energy\": [\"NA\" for _ in range(len(get_paths()))],\n",
    "        \"artist\": [\"NA\" for _ in range(len(get_paths()))],\n",
    "        \"album\": [\"NA\" for _ in range(len(get_paths()))],\n",
    "        \"sub-genre\": [\"NA\" for _ in range(len(get_paths()))],\n",
    "    }\n",
    ")"
   ],
   "metadata": {
    "collapsed": false,
    "pycharm": {
     "name": "#%%\n"
    }
   }
  },
  {
   "cell_type": "code",
   "execution_count": null,
   "metadata": {
    "collapsed": true
   },
   "outputs": [],
   "source": [
    "# df1.to_csv('song-list-a.csv')"
   ]
  },
  {
   "cell_type": "code",
   "execution_count": null,
   "outputs": [],
   "source": [
    "df2 = pd.read_csv(\"song-list-a.csv\")\n",
    "df2.head(10)"
   ],
   "metadata": {
    "collapsed": false,
    "pycharm": {
     "name": "#%%\n"
    }
   }
  },
  {
   "cell_type": "code",
   "execution_count": null,
   "outputs": [],
   "source": [],
   "metadata": {
    "collapsed": false,
    "pycharm": {
     "name": "#%%\n"
    }
   }
  }
 ],
 "metadata": {
  "kernelspec": {
   "display_name": "Python 3",
   "language": "python",
   "name": "python3"
  },
  "language_info": {
   "codemirror_mode": {
    "name": "ipython",
    "version": 2
   },
   "file_extension": ".py",
   "mimetype": "text/x-python",
   "name": "python",
   "nbconvert_exporter": "python",
   "pygments_lexer": "ipython2",
   "version": "2.7.6"
  }
 },
 "nbformat": 4,
 "nbformat_minor": 0
}